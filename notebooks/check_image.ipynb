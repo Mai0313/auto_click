{
 "cells": [
  {
   "cell_type": "code",
   "execution_count": null,
   "metadata": {},
   "outputs": [],
   "source": [
    "import os\n",
    "\n",
    "import yaml\n",
    "from src.types.image_models import Settings\n",
    "\n",
    "\n",
    "def load_config(config_path):\n",
    "    with open(config_path) as f:\n",
    "        config = yaml.load(f, Loader=yaml.FullLoader)\n",
    "    return config\n",
    "\n",
    "\n",
    "configs = load_config(\"./configs/path/mahjong.yaml\")\n",
    "all_images = [f\"./data/mahjong/{image}\" for image in os.listdir(\"./data/mahjong\")]\n",
    "\n",
    "image_config_from_path = []\n",
    "for config in configs:\n",
    "    setting = Settings(**config)\n",
    "    image_name = setting.image_name\n",
    "    image_path = setting.image_path\n",
    "    image_config_from_path.append(image_path)\n",
    "\n",
    "# check which images are missing from the settings.yaml\n",
    "missing_images = list(set(all_images) - set(image_config_from_path))\n",
    "assert len(missing_images) == 0, f\"Missing images: {missing_images}\"\n",
    "missing_images = list(set(image_config_from_path) - set(all_images))\n",
    "assert len(missing_images) == 0, f\"Missing images: {missing_images}\""
   ]
  }
 ],
 "metadata": {
  "kernelspec": {
   "display_name": "automa",
   "language": "python",
   "name": "python3"
  },
  "language_info": {
   "codemirror_mode": {
    "name": "ipython",
    "version": 3
   },
   "file_extension": ".py",
   "mimetype": "text/x-python",
   "name": "python",
   "nbconvert_exporter": "python",
   "pygments_lexer": "ipython3",
   "version": "3.10.14"
  }
 },
 "nbformat": 4,
 "nbformat_minor": 2
}
