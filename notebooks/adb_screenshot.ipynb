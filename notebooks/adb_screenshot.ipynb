{
 "cells": [
  {
   "cell_type": "code",
   "execution_count": null,
   "metadata": {},
   "outputs": [],
   "source": [
    "from adbutils import adb\n",
    "\n",
    "device = adb.connect(\"127.0.0.1:16416\")\n",
    "d = adb.device()\n",
    "running_app = d.app_current()\n",
    "if running_app.package != \"com.longe.allstarhmt\":\n",
    "    d.app_start(\"com.longe.allstarhmt\")\n",
    "current_screent = d.screenshot()\n",
    "current_screent.save(\"../data/allstars_test/shop.png\")"
   ]
  }
 ],
 "metadata": {
  "kernelspec": {
   "display_name": "automa",
   "language": "python",
   "name": "python3"
  },
  "language_info": {
   "codemirror_mode": {
    "name": "ipython",
    "version": 3
   },
   "file_extension": ".py",
   "mimetype": "text/x-python",
   "name": "python",
   "nbconvert_exporter": "python",
   "pygments_lexer": "ipython3",
   "version": "3.10.14"
  }
 },
 "nbformat": 4,
 "nbformat_minor": 2
}
