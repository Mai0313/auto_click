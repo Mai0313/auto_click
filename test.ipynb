{
 "cells": [
  {
   "cell_type": "code",
   "execution_count": null,
   "metadata": {},
   "outputs": [],
   "source": [
    "from adbutils import adb\n",
    "\n",
    "# 連接到模擬器\n",
    "# device = adb.connect(\"127.0.0.1:16416\")\n",
    "d = adb.device()\n",
    "d.app_start(\"com.longe.allstarhmt\")\n",
    "current_screent = d.screenshot(\"screenshot.png\")\n",
    "current_screent.save(\"screenshot.png\")"
   ]
  }
 ],
 "metadata": {
  "kernelspec": {
   "display_name": "automa",
   "language": "python",
   "name": "python3"
  },
  "language_info": {
   "codemirror_mode": {
    "name": "ipython",
    "version": 3
   },
   "file_extension": ".py",
   "mimetype": "text/x-python",
   "name": "python",
   "nbconvert_exporter": "python",
   "pygments_lexer": "ipython3",
   "version": "3.10.14"
  }
 },
 "nbformat": 4,
 "nbformat_minor": 2
}
