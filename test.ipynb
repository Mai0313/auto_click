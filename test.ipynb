{
 "cells": [
  {
   "cell_type": "code",
   "execution_count": null,
   "metadata": {},
   "outputs": [],
   "source": [
    "from adbutils import adb\n",
    "\n",
    "# 連接到模擬器\n",
    "device = adb.connect(\"127.0.0.1:16416\")\n",
    "\n",
    "# 點擊屏幕上的(x, y)位置\n",
    "x, y = 100, 200\n",
    "device.click(x, y)\n",
    "\n",
    "# 截圖並保存到本地文件系統\n",
    "screenshot_path = \"/sdcard/screenshot.png\"\n",
    "local_path = \"screenshot.png\"\n",
    "device.screencap(screenshot_path)\n",
    "device.pull(screenshot_path, local_path)"
   ]
  }
 ],
 "metadata": {
  "language_info": {
   "name": "python"
  }
 },
 "nbformat": 4,
 "nbformat_minor": 2
}
